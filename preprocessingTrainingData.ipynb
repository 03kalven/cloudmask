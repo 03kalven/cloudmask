{
 "cells": [
  {
   "cell_type": "code",
   "execution_count": 2,
   "metadata": {},
   "outputs": [],
   "source": [
    "import numpy as np\n",
    "import os\n",
    "from PIL import Image\n",
    "from tqdm import tqdm\n",
    "from utils import *\n",
    "import glob"
   ]
  },
  {
   "cell_type": "code",
   "execution_count": 21,
   "metadata": {},
   "outputs": [],
   "source": [
    "def subDivs_train(mdgmPath, folderPath, splitMDGM=668):\n",
    "    '''\n",
    "    Saves the arrays for subdivided mdgm-cloudmask pairs of the inputted mdgm to folderPath.\n",
    "    \n",
    "    Parameters:\n",
    "    mdgmPath -- path to an mdgm image in a file directory that resembles https://doi.org/10.7910/DVN/WU6VZ8. See getInfo_train() in utils for description of folder structure\n",
    "    folderPath -- path to an output folder for the mdgm-cloudmask pairs\n",
    "    splitMDGM -- integer equal to the input size of the model (default 668)\n",
    "    '''\n",
    "    splitMask = int(checkUNETNum(splitMDGM))\n",
    "    folders = mdgmPath.split(os.sep)\n",
    "    imName = folders[-1][:8]\n",
    "    \n",
    "    mdgm = Image.open(mdgmPath)\n",
    "    cloudMask = getCloudMask(getCloudMask_train(mdgmPath))\n",
    "\n",
    "    (lowY, highY) = getCloudMaskBounds(cloudMask)\n",
    "    (lowX, highX) = getBlackBounds(mdgm, 'lr', (lowY, highY))\n",
    "\n",
    "    paddedMDGM = padMDGM(mdgm, highX, lowX, highY, lowY)\n",
    "    \n",
    "    cloudMask[cloudMask <= 0] = 0\n",
    "    cloudMask[cloudMask >= 1] = 1\n",
    "\n",
    "    xSplits = int(np.ceil((highX + 1 - lowX) / splitMask * 2 - 1))\n",
    "    ySplits = int(np.ceil((highY + 1 - lowY) / splitMask * 2 - 1))\n",
    "    xSize = (highX + 1 - lowX) / (xSplits + 1)\n",
    "    ySize = (highY + 1 - lowY) / (ySplits + 1)\n",
    "    \n",
    "    for i in range(xSplits):\n",
    "        for j in range(ySplits):\n",
    "            minX = round(xSize * i)\n",
    "            maxX = minX + splitMDGM\n",
    "            \n",
    "            minY = round(ySize * j)\n",
    "            maxY = minY + splitMDGM\n",
    "\n",
    "            # safety: final subdivisions are based on ends of mdgm, not the running split count\n",
    "            if i == xSplits - 1:\n",
    "                maxX = paddedMDGM.width\n",
    "                minX = maxX - splitMDGM\n",
    "            \n",
    "            if j == ySplits - 1:\n",
    "                maxY = paddedMDGM.height\n",
    "                minY = maxY - splitMDGM\n",
    "            \n",
    "            subMask = np.expand_dims(cloudMask[lowY + minY : lowY + minY + splitMask, minX + lowX : minX + lowX + splitMask], axis=2)\n",
    "            subMDGM = paddedMDGM.crop((minX, minY, maxX, maxY))\n",
    "            \n",
    "            savePathMDGM = os.path.join(folderPath, \"img\", \"{im}_{x}{y}.npy\".format(im = imName, x = \"{:02d}\".format(i), y = \"{:02d}\".format(j)))\n",
    "            savePathMask = os.path.join(folderPath, \"mask\", \"{im}_{x}{y}.npy\".format(im = imName, x = \"{:02d}\".format(i), y = \"{:02d}\".format(j)))\n",
    "            \n",
    "            np.save(savePathMDGM, np.array(subMDGM))\n",
    "            np.save(savePathMask, np.array(subMask))"
   ]
  },
  {
   "cell_type": "code",
   "execution_count": 27,
   "metadata": {},
   "outputs": [
    {
     "name": "stderr",
     "output_type": "stream",
     "text": [
      "100%|██████████| 3/3 [00:01<00:00,  2.85it/s]\n"
     ]
    }
   ],
   "source": [
    "# complete the glob with the folder where the cloudmask training data is stored. Should be a file directory which contains data organized by martian subphase. Each subphase folder should resemble https://doi.org/10.7910/DVN/WU6VZ8.\n",
    "# allImages = glob.glob(\"./data/train/**/*.jpeg\", recursive=True)\n",
    "\n",
    "# a small subset for the sample in trainProcessed containing P01day01, P01day11, and P01day21. Remove if allImages is defined above\n",
    "allImages = glob.glob(\"./data/train/P01/mdgms/P01day*1.jpeg\", recursive=True)\n",
    "\n",
    "# folder to save the mdgm-cloudmask subdivisions\n",
    "folderPath = \"./data/trainProcessed\"\n",
    "\n",
    "try:\n",
    "    os.makedirs(folderPath)\n",
    "except:\n",
    "    pass\n",
    "\n",
    "# model size\n",
    "(inDim, outDim) = (668,484)\n",
    "\n",
    "try:\n",
    "    os.makedirs(os.path.join(folderPath, 'img'))\n",
    "    os.makedirs(os.path.join(folderPath, 'mask'))\n",
    "except:\n",
    "    pass\n",
    "\n",
    "for imgPath in tqdm(allImages):\n",
    "    subDivs_train(imgPath, folderPath)"
   ]
  }
 ],
 "metadata": {
  "interpreter": {
   "hash": "c5bfd9dbb93547fda38b2a844d0d551d43571dfc55428b5f302177c56d30d99b"
  },
  "kernelspec": {
   "display_name": "Python 3.9.7 64-bit ('tf': conda)",
   "name": "python3"
  },
  "language_info": {
   "codemirror_mode": {
    "name": "ipython",
    "version": 3
   },
   "file_extension": ".py",
   "mimetype": "text/x-python",
   "name": "python",
   "nbconvert_exporter": "python",
   "pygments_lexer": "ipython3",
   "version": "3.9.7"
  },
  "orig_nbformat": 4
 },
 "nbformat": 4,
 "nbformat_minor": 2
}
