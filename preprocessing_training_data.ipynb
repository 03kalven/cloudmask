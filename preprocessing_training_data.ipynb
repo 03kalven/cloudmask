{
 "cells": [
  {
   "cell_type": "code",
   "execution_count": 2,
   "metadata": {},
   "outputs": [],
   "source": [
    "import numpy as np\n",
    "import os\n",
    "from PIL import Image\n",
    "from tqdm import tqdm\n",
    "from utils import *\n",
    "import glob"
   ]
  },
  {
   "cell_type": "code",
   "execution_count": 21,
   "metadata": {},
   "outputs": [],
   "source": [
    "def subdivs_train(mdgm_path, folder_path, split_mdgm=668):\n",
    "    '''\n",
    "    Saves the arrays for subdivided mdgm-cloudmask pairs of the inputted mdgm to folder_path.\n",
    "    \n",
    "    Parameters:\n",
    "    mdgm_path -- path to an mdgm image in a file directory that resembles https://doi.org/10.7910/DVN/WU6VZ8. See getInfo_train() in utils for description of folder structure\n",
    "    folder_path -- path to an output folder for the mdgm-cloudmask pairs\n",
    "    split_mdgm -- integer equal to the input size of the model (default 668)\n",
    "    '''\n",
    "    split_mask = int(check_UNET_num(split_mdgm))\n",
    "    folders = mdgm_path.split(os.sep)\n",
    "    im_name = folders[-1][:8]\n",
    "    \n",
    "    mdgm = Image.open(mdgm_path)\n",
    "    cloudmask = get_cloudmask(get_cloudmask_train(mdgm_path))\n",
    "\n",
    "    (ylow, yhigh) = get_cloudmask_bounds(cloudmask)\n",
    "    (xlow, xhigh) = get_black_bounds(mdgm, 'lr', (ylow, yhigh))\n",
    "\n",
    "    padded_mdgm = pad_mdgm(mdgm, xhigh, xlow, yhigh, ylow)\n",
    "    \n",
    "    cloudmask[cloudmask <= 0] = 0\n",
    "    cloudmask[cloudmask >= 1] = 1\n",
    "\n",
    "    x_splits = int(np.ceil((xhigh + 1 - xlow) / split_mask * 2 - 1))\n",
    "    y_splits = int(np.ceil((yhigh + 1 - ylow) / split_mask * 2 - 1))\n",
    "    xSize = (xhigh + 1 - xlow) / (x_splits + 1)\n",
    "    ySize = (yhigh + 1 - ylow) / (y_splits + 1)\n",
    "    \n",
    "    for i in range(x_splits):\n",
    "        for j in range(y_splits):\n",
    "            xmin = round(xSize * i)\n",
    "            xmax = xmin + split_mdgm\n",
    "            \n",
    "            ymin = round(ySize * j)\n",
    "            ymax = ymin + split_mdgm\n",
    "\n",
    "            # safety: final subdivisions are based on ends of mdgm, not the running split count\n",
    "            if i == x_splits - 1:\n",
    "                xmax = padded_mdgm.width\n",
    "                xmin = xmax - split_mdgm\n",
    "            \n",
    "            if j == y_splits - 1:\n",
    "                ymax = padded_mdgm.height\n",
    "                ymin = ymax - split_mdgm\n",
    "            \n",
    "            sub_mask = np.expand_dims(cloudmask[ylow + ymin : ylow + ymin + split_mask, xmin + xlow : xmin + xlow + split_mask], axis=2)\n",
    "            sub_mdgm = padded_mdgm.crop((xmin, ymin, xmax, ymax))\n",
    "            \n",
    "            save_path_mdgm = os.path.join(folder_path, \"img\", \"{im}_{x}{y}.npy\".format(im = im_name, x = \"{:02d}\".format(i), y = \"{:02d}\".format(j)))\n",
    "            save_path_mask = os.path.join(folder_path, \"mask\", \"{im}_{x}{y}.npy\".format(im = im_name, x = \"{:02d}\".format(i), y = \"{:02d}\".format(j)))\n",
    "            \n",
    "            np.save(save_path_mdgm, np.array(sub_mdgm))\n",
    "            np.save(save_path_mask, np.array(sub_mask))"
   ]
  },
  {
   "cell_type": "code",
   "execution_count": 27,
   "metadata": {},
   "outputs": [
    {
     "name": "stderr",
     "output_type": "stream",
     "text": [
      "100%|██████████| 3/3 [00:01<00:00,  2.85it/s]\n"
     ]
    }
   ],
   "source": [
    "# complete the glob with the folder where the cloudmask training data is stored. Should be a file directory which contains data organized by martian subphase. Each subphase folder should resemble https://doi.org/10.7910/DVN/WU6VZ8.\n",
    "# all_images = glob.glob(\"./data/train/**/*.jpeg\", recursive=True)\n",
    "\n",
    "# a small subset for the sample in trainProcessed containing P01day01, P01day11, and P01day21. Remove if all_images is defined above\n",
    "all_images = glob.glob(\"./data/train/P01/mdgms/P01day*1.jpeg\", recursive=True)\n",
    "\n",
    "# folder to save the mdgm-cloudmask subdivisions\n",
    "folder_path = \"./data/train_processed\"\n",
    "\n",
    "try:\n",
    "    os.makedirs(folder_path)\n",
    "except:\n",
    "    pass\n",
    "\n",
    "# model size\n",
    "(in_dim, out_dim) = (668,484)\n",
    "\n",
    "try:\n",
    "    os.makedirs(os.path.join(folder_path, 'img'))\n",
    "    os.makedirs(os.path.join(folder_path, 'mask'))\n",
    "except:\n",
    "    pass\n",
    "\n",
    "for img_path in tqdm(all_images):\n",
    "    subdivs_train(img_path, folder_path)"
   ]
  }
 ],
 "metadata": {
  "interpreter": {
   "hash": "c5bfd9dbb93547fda38b2a844d0d551d43571dfc55428b5f302177c56d30d99b"
  },
  "kernelspec": {
   "display_name": "Python 3.9.7 64-bit ('tf': conda)",
   "name": "python3"
  },
  "language_info": {
   "codemirror_mode": {
    "name": "ipython",
    "version": 3
   },
   "file_extension": ".py",
   "mimetype": "text/x-python",
   "name": "python",
   "nbconvert_exporter": "python",
   "pygments_lexer": "ipython3",
   "version": "3.9.7"
  },
  "orig_nbformat": 4
 },
 "nbformat": 4,
 "nbformat_minor": 2
}
