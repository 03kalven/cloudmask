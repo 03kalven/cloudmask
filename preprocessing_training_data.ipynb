{
 "cells": [
  {
   "cell_type": "code",
   "execution_count": 1,
   "metadata": {},
   "outputs": [],
   "source": [
    "import numpy as np\n",
    "import os\n",
    "from PIL import Image\n",
    "from tqdm import tqdm\n",
    "from utils import *\n",
    "import glob"
   ]
  },
  {
   "cell_type": "code",
   "execution_count": 2,
   "metadata": {},
   "outputs": [],
   "source": [
    "def subdivs_train(mdgm_path, folder_path, split_mdgm=668):\n",
    "    '''\n",
    "    Saves the arrays for subdivided mdgm-cloudmask pairs of the inputted mdgm to folder_path.\n",
    "    \n",
    "    Parameters:\n",
    "    mdgm_path -- path to an mdgm image in a file directory that resembles https://doi.org/10.7910/DVN/WU6VZ8. See getInfo_train() in utils for description of folder structure\n",
    "    folder_path -- path to an output folder for the mdgm-cloudmask pairs\n",
    "    split_mdgm -- integer equal to the input size of the model (default 668)\n",
    "    '''\n",
    "    split_mask = int(check_UNET_num(split_mdgm))\n",
    "    folders = mdgm_path.split(os.sep)\n",
    "    im_name = folders[-1][:8]\n",
    "    \n",
    "    mdgm = Image.open(mdgm_path)\n",
    "    cloudmask = get_cloudmask(get_cloudmask_train(mdgm_path))\n",
    "\n",
    "    (ylow, yhigh) = get_cloudmask_bounds(cloudmask)\n",
    "    (xlow, xhigh) = get_black_bounds(mdgm, 'lr')\n",
    "\n",
    "    padded_mdgm = pad_mdgm(mdgm, xhigh, xlow, yhigh, ylow)\n",
    "    \n",
    "    cloudmask[cloudmask <= 0] = 0\n",
    "    cloudmask[cloudmask >= 1] = 1\n",
    "\n",
    "    x_splits = int(np.ceil((xhigh + 1 - xlow) / split_mask * 2 - 1))\n",
    "    y_splits = int(np.ceil((yhigh + 1 - ylow) / split_mask * 2 - 1))\n",
    "    xSize = (xhigh + 1 - xlow) / (x_splits + 1)\n",
    "    ySize = (yhigh + 1 - ylow) / (y_splits + 1)\n",
    "    \n",
    "    for i in range(x_splits):\n",
    "        for j in range(y_splits):\n",
    "            xmin = round(xSize * i)\n",
    "            xmax = xmin + split_mdgm\n",
    "            \n",
    "            ymin = round(ySize * j)\n",
    "            ymax = ymin + split_mdgm\n",
    "\n",
    "            # safety: final subdivisions are based on ends of mdgm, not the running split count\n",
    "            if i == x_splits - 1:\n",
    "                xmax = padded_mdgm.width\n",
    "                xmin = xmax - split_mdgm\n",
    "            \n",
    "            if j == y_splits - 1:\n",
    "                ymax = padded_mdgm.height\n",
    "                ymin = ymax - split_mdgm\n",
    "            \n",
    "            sub_mask = np.expand_dims(cloudmask[ylow + ymin : ylow + ymin + split_mask, xmin + xlow : xmin + xlow + split_mask], axis=2)\n",
    "            sub_mdgm = padded_mdgm.crop((xmin, ymin, xmax, ymax))\n",
    "            \n",
    "            save_path = os.path.join(folder_path, \"{im}_{x}{y}.npz\".format(im = im_name, x = \"{:02d}\".format(i), y = \"{:02d}\".format(j)))\n",
    "            np.savez_compressed(save_path, mdgm=sub_mdgm, mask=sub_mask)"
   ]
  },
  {
   "cell_type": "code",
   "execution_count": null,
   "metadata": {},
   "outputs": [],
   "source": [
    "# complete the glob with the folder where the cloudmask training data is stored. Should be a file directory which contains data organized by martian subphase. Each subphase folder should resemble https://doi.org/10.7910/DVN/WU6VZ8.\n",
    "# all_images = glob.glob(\"./data/train/**/*.jpeg\", recursive=True)\n",
    "\n",
    "# a small subset for the sample in trainProcessed containing P01day01, P01day11, and P01day21. Remove if all_images is defined above\n",
    "all_images = glob.glob(\"data/train/P01/mdgms/P01day*1.jpeg\", recursive=True)\n",
    "\n",
    "# folder to save the mdgm-cloudmask subdivisions\n",
    "folder_path = \"data/train_processed\"\n",
    "\n",
    "try:\n",
    "    os.makedirs(folder_path)\n",
    "except:\n",
    "    pass\n",
    "\n",
    "# model size\n",
    "(in_dim, out_dim) = (668,484)\n",
    "\n",
    "for img_path in tqdm(all_images):\n",
    "    subdivs_train(img_path, folder_path)"
   ]
  }
 ],
 "metadata": {
  "kernelspec": {
   "display_name": "Python 3.9.12 ('tf')",
   "language": "python",
   "name": "python3"
  },
  "language_info": {
   "codemirror_mode": {
    "name": "ipython",
    "version": 3
   },
   "file_extension": ".py",
   "mimetype": "text/x-python",
   "name": "python",
   "nbconvert_exporter": "python",
   "pygments_lexer": "ipython3",
   "version": "3.9.12"
  },
  "orig_nbformat": 4,
  "vscode": {
   "interpreter": {
    "hash": "8c8a685ad8b7eea5e0816a67a07b8526bfcbbfc8274c619382b138e85f29b471"
   }
  }
 },
 "nbformat": 4,
 "nbformat_minor": 2
}
