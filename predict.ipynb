{
 "cells": [
  {
   "cell_type": "code",
   "execution_count": 1,
   "metadata": {},
   "outputs": [],
   "source": [
    "import numpy as np\n",
    "import os\n",
    "from PIL import Image\n",
    "from netCDF4 import Dataset\n",
    "from tqdm import tqdm\n",
    "from utils import *\n",
    "from model import *\n",
    "import glob\n",
    "from shutil import copy"
   ]
  },
  {
   "cell_type": "code",
   "execution_count": 2,
   "metadata": {},
   "outputs": [],
   "source": [
    "cachedWindow2D = window_2D(484, 2)"
   ]
  },
  {
   "cell_type": "code",
   "execution_count": 3,
   "metadata": {},
   "outputs": [],
   "source": [
    "model = tf.keras.models.load_model('save_cloudModel', custom_objects={'staticWeightedBincrossentropy': staticWeightedBincrossentropy})"
   ]
  },
  {
   "cell_type": "code",
   "execution_count": null,
   "metadata": {},
   "outputs": [],
   "source": [
    "def subDivs_compute(mdgmPath, splitMDGM=668, probs=False, c=3, bounding=None):\n",
    "    '''\n",
    "    Computes a cloudMask for a given mdgm.\n",
    "    \n",
    "    Parameters:\n",
    "    mdgmPath -- path to an mdgm image in a file directory that resembles https://doi.org/10.7910/DVN/U3766S. See getInfo_compute() in utils for description of folder structure\n",
    "    splitMDGM -- integer equal to the input size of the model (default 668)\n",
    "    probs -- returns the cloud probablity if True, returns the binary classification if False (default False)\n",
    "    c -- integer that alters the automated polar extents by c degrees. See getPolarBoundsNew() in utils for usage. Not used if bounding is not None (default 3)\n",
    "    bounding -- optional tuple of four coordinates to manually dictate the bounding box instead of using the ls value. Tuple should be in format (minX, maxX, minY, maxY) (default None)\n",
    "    '''\n",
    "    # gets output mask size (668 --> 484)\n",
    "    splitMask = int(checkUNETNum(splitMDGM))\n",
    "    \n",
    "    mdgm = Image.open(mdgmPath)\n",
    "\n",
    "    if bounding is not None:\n",
    "        (lowX, highX, lowY, highY) = bounding\n",
    "        highX, highY = highX - 1, highY - 1\n",
    "    else:\n",
    "        latN, latS = getPolarBoundsNew(getInfo_compute(mdgmPath)[0], c)\n",
    "\n",
    "        (lowY, highY) = (boundToPixel(latN),boundToPixel(latS))\n",
    "        (lowX, highX) = getBlackBounds(mdgm, 'lr', (lowY, highY))\n",
    "    \n",
    "    paddedMDGM = padMDGM(mdgm, highX, lowX, highY, lowY)\n",
    "    \n",
    "    # calculates subdivision data: xSplits, ySplits = number of splits for each axis; xSize, ySize = size of each subdivision \n",
    "    xSplits = int(np.ceil((highX + 1 - lowX) / splitMask * 2 - 1))\n",
    "    ySplits = int(np.ceil((highY + 1 - lowY) / splitMask * 2 - 1))\n",
    "    xSize = (highX + 1 - lowX) / (xSplits + 1)\n",
    "    ySize = (highY + 1 - lowY) / (ySplits + 1)\n",
    "\n",
    "    # creates cloudMask array with -999 defaults\n",
    "    fullCloudMask = np.ndarray((xSplits*ySplits, 2, mdgm.height, mdgm.width))\n",
    "    fullCloudMask.fill(-999)\n",
    "    \n",
    "    for i in range(xSplits):\n",
    "        for j in range(ySplits):\n",
    "            minX = round(xSize * i)\n",
    "            maxX = minX + splitMDGM\n",
    "            \n",
    "            minY = round(ySize * j)\n",
    "            maxY = minY + splitMDGM\n",
    "\n",
    "            # safety: final subdivisions are based on ends of mdgm, not the running split count\n",
    "            if i == xSplits - 1:\n",
    "                maxX = paddedMDGM.width\n",
    "                minX = maxX - splitMDGM\n",
    "            \n",
    "            if j == ySplits - 1:\n",
    "                maxY = paddedMDGM.height\n",
    "                minY = maxY - splitMDGM\n",
    "            \n",
    "            subMDGM = np.expand_dims(np.array(paddedMDGM.crop((minX, minY, maxX, maxY))), axis=0)\n",
    "\n",
    "            # model prediction for each subdivision\n",
    "            if not probs:\n",
    "                fullCloudMask[i*ySplits + j, :1, lowY + minY : lowY + minY + splitMask, minX + lowX : minX + lowX + splitMask] = binaryCloudMask(model.predict(subMDGM)).reshape((1,484,484))\n",
    "            else:\n",
    "                fullCloudMask[i*ySplits + j, :1, lowY + minY : lowY + minY + splitMask, minX + lowX : minX + lowX + splitMask] = model.predict(subMDGM).reshape((1,484,484))\n",
    "            \n",
    "            fullCloudMask[i*ySplits + j, 1:, lowY + minY : lowY + minY + splitMask, minX + lowX : minX + lowX + splitMask] = cachedWindow2D\n",
    "    \n",
    "    # stitches predicted subdivisions together by selecting the predictions closest to the centers of their subdivision\n",
    "    index = np.expand_dims(np.argmax(fullCloudMask[:,1,...],axis=0),0)\n",
    "    cloudMask = np.take_along_axis(fullCloudMask[:,0,...],index,axis=0)[0]\n",
    "    \n",
    "    # allThreeOnly mask, faster implementation\n",
    "    nanImg = np.array(mdgm)\n",
    "    rgbProduct = nanImg.prod(axis=2)\n",
    "    cloudMask[(nanImg[...,1] < 20) & (nanImg[...,2] < 20) | (nanImg[...,2] < 30) | (rgbProduct == 0)] = -999\n",
    "    \n",
    "    return mdgm, cloudMask"
   ]
  },
  {
   "cell_type": "code",
   "execution_count": null,
   "metadata": {},
   "outputs": [
    {
     "name": "stdout",
     "output_type": "stream",
     "text": [
      "B\n"
     ]
    },
    {
     "name": "stderr",
     "output_type": "stream",
     "text": [
      "100%|██████████| 19/19 [50:11<00:00, 158.52s/it]\n"
     ]
    },
    {
     "name": "stdout",
     "output_type": "stream",
     "text": [
      "D\n"
     ]
    },
    {
     "name": "stderr",
     "output_type": "stream",
     "text": [
      "100%|██████████| 22/22 [58:17<00:00, 158.97s/it]\n"
     ]
    },
    {
     "name": "stdout",
     "output_type": "stream",
     "text": [
      "F\n"
     ]
    },
    {
     "name": "stderr",
     "output_type": "stream",
     "text": [
      "100%|██████████| 23/23 [1:03:15<00:00, 165.02s/it]\n"
     ]
    },
    {
     "name": "stdout",
     "output_type": "stream",
     "text": [
      "G\n"
     ]
    },
    {
     "name": "stderr",
     "output_type": "stream",
     "text": [
      "100%|██████████| 23/23 [1:02:48<00:00, 163.83s/it]\n"
     ]
    },
    {
     "name": "stdout",
     "output_type": "stream",
     "text": [
      "J\n"
     ]
    },
    {
     "name": "stderr",
     "output_type": "stream",
     "text": [
      "100%|██████████| 8/8 [22:21<00:00, 167.74s/it]\n"
     ]
    },
    {
     "name": "stdout",
     "output_type": "stream",
     "text": [
      "P\n"
     ]
    },
    {
     "name": "stderr",
     "output_type": "stream",
     "text": [
      "100%|██████████| 22/22 [58:35<00:00, 159.81s/it]\n"
     ]
    }
   ],
   "source": [
    "# runs through all mdgms located at masterPath and stores the model's output at savePath\n",
    "\n",
    "# masterPath must follow format of https://doi.org/10.7910/DVN/U3766S. The folder should contain one or more years of data.\n",
    "masterPath = \"./data/raw\"\n",
    "savePath = \"./data/preds\"\n",
    "\n",
    "def makeNetCDF(cloudMask, saveMaskPath):\n",
    "    '''\n",
    "    Creates NetCDF file for an inputted cloudmask array.\n",
    "    '''\n",
    "    root = Dataset(saveMaskPath, 'w', format='NETCDF4_CLASSIC')\n",
    "    root.set_fill_off()\n",
    "\n",
    "    # dimensions\n",
    "    root.createDimension('x', 3600)\n",
    "    root.createDimension('y', 1801)\n",
    "\n",
    "    # variables\n",
    "    longitude = root.createVariable('longitude', 'float32', ('x',),zlib=True)\n",
    "    latitude = root.createVariable('latitude', 'float32', ('y',),zlib=True)\n",
    "    cloudmask = root.createVariable('cloudmask', 'float32', ('y','x'),zlib=True)\n",
    "\n",
    "    # data\n",
    "    lon_range = np.linspace(-180, 179.9, 3600, dtype=np.float32)\n",
    "    lat_range = np.linspace(-90, 90, 1801, dtype=np.float32)\n",
    "    longitude[:] = lon_range\n",
    "    latitude[:] = lat_range\n",
    "    cloudmask[...] = cloudMask\n",
    "    root.close()\n",
    "\n",
    "try:\n",
    "    os.mkdir(savePath)\n",
    "except:\n",
    "    pass\n",
    "\n",
    "for year in [i for i in os.listdir(masterPath) if os.path.isdir(os.path.join(masterPath, i))]:\n",
    "    print(year)\n",
    "    for subphase in tqdm([i for i in os.listdir(os.path.join(masterPath, year)) if os.path.isdir(os.path.join(masterPath, year, i))]):\n",
    "        os.makedirs(os.path.join(savePath, year, subphase, 'mdgms'))\n",
    "        os.makedirs(os.path.join(savePath, year, subphase, 'cloudmasks'))\n",
    "        copy(os.path.join(masterPath, year, subphase,\"{}_ls.txt\".format(subphase)), os.path.join(savePath, year, subphase,\"{}_ls.txt\".format(subphase)))\n",
    "        for mdgmPath in glob.glob(os.path.join(masterPath, year, subphase, '*.jpg')):\n",
    "            subAndDay = mdgmPath.split(os.sep)[-1][:9]\n",
    "            (mdgm, clouds) = subDivs_compute(mdgmPath)\n",
    "            copy(os.path.join(masterPath, year, subphase,mdgmPath), os.path.join(savePath, year, subphase,'mdgms','{}.jpg'.format(subAndDay)))\n",
    "            makeNetCDF(np.flip(clouds, axis=0), os.path.join(savePath,year,subphase,'cloudmasks',\"cloudmask_{}.ncdf\".format(subAndDay)))"
   ]
  }
 ],
 "metadata": {
  "interpreter": {
   "hash": "c5bfd9dbb93547fda38b2a844d0d551d43571dfc55428b5f302177c56d30d99b"
  },
  "kernelspec": {
   "display_name": "Python 3.9.7 64-bit ('tf': conda)",
   "name": "python3"
  },
  "language_info": {
   "codemirror_mode": {
    "name": "ipython",
    "version": 3
   },
   "file_extension": ".py",
   "mimetype": "text/x-python",
   "name": "python",
   "nbconvert_exporter": "python",
   "pygments_lexer": "ipython3",
   "version": "3.9.7"
  },
  "orig_nbformat": 4
 },
 "nbformat": 4,
 "nbformat_minor": 2
}
